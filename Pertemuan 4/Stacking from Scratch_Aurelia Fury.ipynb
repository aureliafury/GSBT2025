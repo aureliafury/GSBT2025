{
  "cells": [
    {
      "cell_type": "markdown",
      "id": "8f5448fb",
      "metadata": {
        "id": "8f5448fb",
        "papermill": {
          "duration": 0.014281,
          "end_time": "2024-06-29T05:06:57.857497",
          "exception": false,
          "start_time": "2024-06-29T05:06:57.843216",
          "status": "completed"
        },
        "tags": []
      },
      "source": [
        "# **Stacking from scratch**\n",
        "Stacking (Stacked Generalization) adalah metode ensemble learning yang menggabungkan beberapa model (base learners) untuk meningkatkan akurasi prediksi.\n",
        "\n",
        "- Tiap base model dilatih pada dataset yang sama.\n",
        "- Hasil prediksi dari model-model tersebut digunakan sebagai input features bagi meta model (final estimator).\n",
        "- Tujuannya: agar meta model bisa mempelajari cara menggabungkan prediksi model dasar dengan lebih optimal.\n",
        "\n",
        "Perbedaan utama dengan Blending:\n",
        "- Stacking menggunakan k-fold cross-validation untuk membuat meta-data → lebih robust.\n",
        "- Blending biasanya hanya memakai hold-out validation (misal 10–20% data untuk meta learner).\n",
        "\n",
        "\n",
        "Source : https://www.geeksforgeeks.org/machine-learning/stacking-in-machine-learning/\n",
        "Youtube : https://www.youtube.com/watch?v=a4IS1Ai7GCI"
      ]
    },
    {
      "cell_type": "code",
      "execution_count": 1,
      "id": "1586bc8f",
      "metadata": {
        "execution": {
          "iopub.execute_input": "2024-06-29T05:06:57.888286Z",
          "iopub.status.busy": "2024-06-29T05:06:57.887851Z",
          "iopub.status.idle": "2024-06-29T05:07:00.846336Z",
          "shell.execute_reply": "2024-06-29T05:07:00.845160Z"
        },
        "id": "1586bc8f",
        "papermill": {
          "duration": 2.977168,
          "end_time": "2024-06-29T05:07:00.849030",
          "exception": false,
          "start_time": "2024-06-29T05:06:57.871862",
          "status": "completed"
        },
        "tags": []
      },
      "outputs": [],
      "source": [
        "# Import Libraries\n",
        "import numpy as np\n",
        "import pandas as pd\n",
        "from sklearn.datasets import load_iris\n",
        "from sklearn.model_selection import train_test_split, KFold\n",
        "from sklearn.preprocessing import LabelEncoder\n",
        "from sklearn.metrics import accuracy_score\n",
        "from sklearn.base import clone\n",
        "from sklearn.linear_model import LogisticRegression\n",
        "from sklearn.ensemble import RandomForestClassifier, GradientBoostingClassifier"
      ]
    },
    {
      "cell_type": "markdown",
      "source": [
        "**Pendefinisian class stack**\n",
        "\n",
        "Bertujuan untuk membuat kerangka kerja ensemble learning berbasis stacking dan blending secara modular dan fleksibel. Class ini memungkinkan pengguna untuk menggabungkan beberapa model dasar (base learners) dan satu model meta (final estimator) untuk menghasilkan prediksi akhir yang lebih akurat. Dengan mengatur parameter seperti metode cross-validation, penggunaan blending, serta paralelisasi proses, class ini memberikan kontrol penuh kepada pengguna dalam menerapkan teknik stacking sesuai kebutuhan. Kegunaan utamanya adalah sebagai alat bantu untuk mengimplementasikan ensemble model dari nol (from scratch) tanpa tergantung pada fungsi otomatis dari pustaka seperti scikit-learn, sehingga cocok untuk pembelajaran konsep maupun eksperimen lanjutan dalam machine learning."
      ],
      "metadata": {
        "id": "xl_ZCQOqltFo"
      },
      "id": "xl_ZCQOqltFo"
    },
    {
      "cell_type": "markdown",
      "source": [
        "Buat class bernama Stack yang berisi <br>\n",
        "\n",
        "Attribute:\n",
        "\n",
        "\n",
        "Method:\n"
      ],
      "metadata": {
        "id": "_hxe6ClnA8_o"
      },
      "id": "_hxe6ClnA8_o"
    },
    {
      "cell_type": "code",
      "execution_count": 2,
      "id": "436db242",
      "metadata": {
        "execution": {
          "iopub.execute_input": "2024-06-29T05:07:00.881581Z",
          "iopub.status.busy": "2024-06-29T05:07:00.880255Z",
          "iopub.status.idle": "2024-06-29T05:07:00.897475Z",
          "shell.execute_reply": "2024-06-29T05:07:00.896334Z"
        },
        "id": "436db242",
        "papermill": {
          "duration": 0.036178,
          "end_time": "2024-06-29T05:07:00.900303",
          "exception": false,
          "start_time": "2024-06-29T05:07:00.864125",
          "status": "completed"
        },
        "tags": []
      },
      "outputs": [],
      "source": [
        "# Definisikan class stack\n",
        "class Stack:\n",
        "    def __init__(self, base_models, meta_model, n_folds=5, blending=False, random_state=None):\n",
        "        self.base_models = base_models\n",
        "        self.meta_model = meta_model\n",
        "        self.n_folds = n_folds\n",
        "        self.blending = blending\n",
        "        self.random_state = random_state\n",
        "\n",
        "    def fit_predict(self, X_train, y_train, X_test):\n",
        "        # Menyimpan prediksi base model\n",
        "        meta_features_train = np.zeros((X_train.shape[0], len(self.base_models)))\n",
        "        meta_features_test = np.zeros((X_test.shape[0], len(self.base_models)))\n",
        "\n",
        "        # KFold Cross Validation\n",
        "        kf = KFold(n_splits=self.n_folds, shuffle=True, random_state=self.random_state)\n",
        "\n",
        "        for i, model in enumerate(self.base_models):\n",
        "            test_fold_preds = np.zeros((X_test.shape[0], self.n_folds))\n",
        "            print(f\"Training base model {i+1}: {model.__class__.__name__}\")\n",
        "\n",
        "            for j, (train_idx, val_idx) in enumerate(kf.split(X_train)):\n",
        "                X_tr, X_val = X_train.iloc[train_idx], X_train.iloc[val_idx]\n",
        "                y_tr, y_val = y_train.iloc[train_idx], y_train.iloc[val_idx]\n",
        "\n",
        "                m = clone(model)\n",
        "                m.fit(X_tr, y_tr)\n",
        "\n",
        "                # Simpan prediksi untuk meta features\n",
        "                meta_features_train[val_idx, i] = m.predict(X_val)\n",
        "                test_fold_preds[:, j] = m.predict(X_test)\n",
        "\n",
        "            # Rata-rata hasil prediksi tiap fold untuk test set\n",
        "            meta_features_test[:, i] = test_fold_preds.mean(axis=1)\n",
        "\n",
        "        # Training meta model\n",
        "        self.meta_model.fit(meta_features_train, y_train)\n",
        "        final_pred = self.meta_model.predict(meta_features_test)\n",
        "\n",
        "        return final_pred"
      ]
    },
    {
      "cell_type": "markdown",
      "id": "1cf6ff9c",
      "metadata": {
        "id": "1cf6ff9c",
        "papermill": {
          "duration": 0.014463,
          "end_time": "2024-06-29T05:07:00.969581",
          "exception": false,
          "start_time": "2024-06-29T05:07:00.955118",
          "status": "completed"
        },
        "tags": []
      },
      "source": [
        "### **Upload datasets**"
      ]
    },
    {
      "cell_type": "code",
      "source": [
        "# Load dataset iris dari sklearn\n",
        "from sklearn.datasets import load_iris\n",
        "iris = load_iris(as_frame=True)\n",
        "glass_df = iris.frame\n",
        "\n",
        "# Pisahkan fitur dan target\n",
        "X1 = glass_df.drop(columns=['target'])\n",
        "y1 = glass_df['target']\n",
        "\n",
        "# Encode target (optional, untuk case multiclass stacking)\n",
        "le = LabelEncoder()\n",
        "y1 = le.fit_transform(y1)\n",
        "\n",
        "# Split data menjadi train dan test\n",
        "X1_train, X1_test, y1_train, y1_test = train_test_split(X1, y1, random_state=0)"
      ],
      "metadata": {
        "id": "n5A865GHEqpX"
      },
      "id": "n5A865GHEqpX",
      "execution_count": 3,
      "outputs": []
    },
    {
      "cell_type": "markdown",
      "id": "f91c4f4f",
      "metadata": {
        "id": "f91c4f4f",
        "papermill": {
          "duration": 0.014633,
          "end_time": "2024-06-29T05:07:01.153943",
          "exception": false,
          "start_time": "2024-06-29T05:07:01.139310",
          "status": "completed"
        },
        "tags": []
      },
      "source": [
        "# **Model training and evaluation of the obtained results**\n",
        "Both in the case of classification and regression, stacking and blending showed the same and not the best results. As a rule, this situation occurs for two reasons: given that metadata is based on predictions of basic models, the presence of weak basic models can reduce the accuracy of stronger ones which will reduce the final prediction as a whole. Also a small amount of training data often leads to overfitting which in turn reduces the accuracy of predictions.\n",
        "\n",
        "In this case the problem can be partially solved by setting stack_method='predict_proba' when each basic classifier outputs class membership probabilities instead of the classes themselves which can help increase accuracy in the case of non-mutually exclusive classes. Also this method works better with noise in the data. As you can see this method has significantly increased the accuracy of the model. With the right selection of models and hyperparameters the accuracy will be even higher.\n",
        "\n",
        "Most often stacking shows slightly better results than blending due to the use of k-fold cross-validation but usually the difference is noticeable only on a large amount of data."
      ]
    },
    {
      "cell_type": "code",
      "execution_count": null,
      "id": "bf39fc7e",
      "metadata": {
        "execution": {
          "iopub.execute_input": "2024-06-29T05:07:01.215267Z",
          "iopub.status.busy": "2024-06-29T05:07:01.214854Z",
          "iopub.status.idle": "2024-06-29T05:07:10.093042Z",
          "shell.execute_reply": "2024-06-29T05:07:10.091587Z"
        },
        "id": "bf39fc7e",
        "papermill": {
          "duration": 8.8971,
          "end_time": "2024-06-29T05:07:10.095743",
          "exception": false,
          "start_time": "2024-06-29T05:07:01.198643",
          "status": "completed"
        },
        "tags": []
      },
      "outputs": [],
      "source": [
        "# StackingClassifier dan Blending Classifier"
      ]
    },
    {
      "cell_type": "markdown",
      "id": "f044880e",
      "metadata": {
        "id": "f044880e",
        "papermill": {
          "duration": 0.014779,
          "end_time": "2024-06-29T05:07:10.125840",
          "exception": false,
          "start_time": "2024-06-29T05:07:10.111061",
          "status": "completed"
        },
        "tags": []
      },
      "source": [
        "**StackingClassifier (scikit-learn)**\n",
        "\n",
        "\n",
        "* Merupakan implementasi resmi stacking untuk klasifikasi dalam scikit-learn.\n",
        "\n",
        "* Mempermudah proses ensemble dengan base learners dan final estimator (meta learner) dalam satu objek.\n",
        "\n",
        "* Sudah menangani cross-validation secara internal sehingga mengurangi risiko data leakage.\n",
        "\n",
        "* Mendukung parameter passthrough=True jika ingin menggabungkan fitur asli dengan meta-features.\n",
        "\n",
        "* Cocok untuk digunakan dalam pipeline dan produksi karena stabil dan teruji."
      ]
    },
    {
      "cell_type": "code",
      "execution_count": 6,
      "id": "11437b8a",
      "metadata": {
        "execution": {
          "iopub.execute_input": "2024-06-29T05:07:10.158872Z",
          "iopub.status.busy": "2024-06-29T05:07:10.157857Z",
          "iopub.status.idle": "2024-06-29T05:07:58.751416Z",
          "shell.execute_reply": "2024-06-29T05:07:58.749955Z"
        },
        "id": "11437b8a",
        "papermill": {
          "duration": 48.613356,
          "end_time": "2024-06-29T05:07:58.754310",
          "exception": false,
          "start_time": "2024-06-29T05:07:10.140954",
          "status": "completed"
        },
        "tags": [],
        "colab": {
          "base_uri": "https://localhost:8080/",
          "height": 0
        },
        "outputId": "d4e8fff9-bc09-4c9e-89ee-15c742a64318"
      },
      "outputs": [
        {
          "output_type": "stream",
          "name": "stdout",
          "text": [
            "\n",
            "StackingClassifier dengan stack_method = 'predict'\n",
            "Akurasi (stack_method='predict'): 0.9737\n",
            "\n",
            "StackingClassifier dengan stack_method = 'predict_proba'\n",
            "Akurasi (stack_method='predict_proba'): 0.9737\n"
          ]
        }
      ],
      "source": [
        "# StackingClassifier (scikit-learn)\n",
        "from sklearn.ensemble import StackingClassifier\n",
        "\n",
        "# sk_estimators\n",
        "sk_estimators = [\n",
        "    ('lr', LogisticRegression(max_iter=500)),\n",
        "    ('rf', RandomForestClassifier(n_estimators=100, random_state=0)),\n",
        "    ('gb', GradientBoostingClassifier(random_state=0))\n",
        "]\n",
        "\n",
        "# stack_methods\n",
        "stack_methods = ['predict', 'predict_proba']\n",
        "\n",
        "for i, method in enumerate(stack_methods):\n",
        "  print(f\"\\nStackingClassifier dengan stack_method = '{method}'\")\n",
        "\n",
        "# Buat objek StackingClassifier\n",
        "  clf = StackingClassifier(\n",
        "        estimators=sk_estimators,\n",
        "        final_estimator=LogisticRegression(max_iter=500),\n",
        "        stack_method=method\n",
        "  )\n",
        "\n",
        "  # Fit model ke data training\n",
        "  clf.fit(X1_train, y1_train)\n",
        "\n",
        "  # Prediksi pada data test\n",
        "  pred = clf.predict(X1_test)\n",
        "\n",
        "  # Evaluasi akurasi\n",
        "  acc = accuracy_score(y1_test, pred)\n",
        "  print(f\"Akurasi (stack_method='{method}'): {round(acc, 4)}\")"
      ]
    }
  ],
  "metadata": {
    "colab": {
      "provenance": []
    },
    "kaggle": {
      "accelerator": "none",
      "dataSources": [
        {
          "datasetId": 738,
          "sourceId": 1370,
          "sourceType": "datasetVersion"
        }
      ],
      "dockerImageVersionId": 30664,
      "isGpuEnabled": false,
      "isInternetEnabled": true,
      "language": "python",
      "sourceType": "notebook"
    },
    "kernelspec": {
      "display_name": "Python 3",
      "language": "python",
      "name": "python3"
    },
    "language_info": {
      "codemirror_mode": {
        "name": "ipython",
        "version": 3
      },
      "file_extension": ".py",
      "mimetype": "text/x-python",
      "name": "python",
      "nbconvert_exporter": "python",
      "pygments_lexer": "ipython3",
      "version": "3.10.13"
    },
    "papermill": {
      "default_parameters": {},
      "duration": 71.638912,
      "end_time": "2024-06-29T05:08:06.086780",
      "environment_variables": {},
      "exception": null,
      "input_path": "__notebook__.ipynb",
      "output_path": "__notebook__.ipynb",
      "parameters": {},
      "start_time": "2024-06-29T05:06:54.447868",
      "version": "2.5.0"
    }
  },
  "nbformat": 4,
  "nbformat_minor": 5
}